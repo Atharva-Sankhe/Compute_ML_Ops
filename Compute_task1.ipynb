{
  "nbformat": 4,
  "nbformat_minor": 0,
  "metadata": {
    "colab": {
      "provenance": [],
      "include_colab_link": true
    },
    "kernelspec": {
      "name": "python3",
      "display_name": "Python 3"
    },
    "language_info": {
      "name": "python"
    }
  },
  "cells": [
    {
      "cell_type": "markdown",
      "metadata": {
        "id": "view-in-github",
        "colab_type": "text"
      },
      "source": [
        "<a href=\"https://colab.research.google.com/github/Atharva-Sankhe/Compute_ML_task/blob/main/Compute_task1.ipynb\" target=\"_parent\"><img src=\"https://colab.research.google.com/assets/colab-badge.svg\" alt=\"Open In Colab\"/></a>"
      ]
    },
    {
      "cell_type": "code",
      "source": [
        "s1=[89,90,78,93,80]\n",
        "s2=[90,91,85,88,86]\n",
        "s3=[91,92,83,89,90.5]\n",
        "s=zip(s1,s2,s3)\n",
        "for x in s:\n",
        "    y= sum(x)/3\n",
        "    print(y)"
      ],
      "metadata": {
        "colab": {
          "base_uri": "https://localhost:8080/"
        },
        "id": "1sChpbODHha3",
        "outputId": "da2bd7e1-46f0-4f39-df8d-99a27c9f7019"
      },
      "execution_count": null,
      "outputs": [
        {
          "output_type": "stream",
          "name": "stdout",
          "text": [
            "90.0\n",
            "91.0\n",
            "82.0\n",
            "90.0\n",
            "85.5\n"
          ]
        }
      ]
    },
    {
      "cell_type": "code",
      "source": [
        "N= int(input())\n",
        "mylist = []\n",
        "for i in range(0,N):\n",
        "    text = input().split()\n",
        "    if text[0] == \"insert\":\n",
        "        mylist.insert(int(text[1]),int(text[2]))\n",
        "    elif text[0] == \"print\":\n",
        "        print(mylist)\n",
        "    elif text[0] == \"remove\":\n",
        "        mylist.remove(int(text[1]))\n",
        "    elif text[0] == \"append\":\n",
        "        mylist.append(int(text[1]))\n",
        "    elif text[0] == \"sort\":\n",
        "        mylist.sort()\n",
        "    elif text[0] == \"pop\":\n",
        "        mylist.pop()\n",
        "    else:\n",
        "        mylist.reverse()\n"
      ],
      "metadata": {
        "colab": {
          "base_uri": "https://localhost:8080/"
        },
        "id": "bm4Xn45lwySM",
        "outputId": "4eadf53b-5c33-4019-e903-66c6f00e1688"
      },
      "execution_count": null,
      "outputs": [
        {
          "output_type": "stream",
          "name": "stdout",
          "text": [
            "4\n",
            "append 5\n",
            "insert 1 6\n",
            "reverse\n",
            "print\n",
            "[6, 5]\n"
          ]
        }
      ]
    },
    {
      "cell_type": "code",
      "source": [
        "if __name__ == '__main__':\n",
        "    n = int(input())\n",
        "    student_marks = {}\n",
        "    for _ in range(n):\n",
        "        name, *line = input().split()\n",
        "        scores = list(map(float, line))\n",
        "        student_marks[name] = scores\n",
        "    stu_name = input()\n",
        "    print(format(sum(student_marks[stu_name])/3,'.2f'))"
      ],
      "metadata": {
        "colab": {
          "base_uri": "https://localhost:8080/"
        },
        "id": "v1MPKnpeM-vD",
        "outputId": "f385986b-28ce-46ea-bf77-efe7ccc1cc73"
      },
      "execution_count": null,
      "outputs": [
        {
          "output_type": "stream",
          "name": "stdout",
          "text": [
            "2\n",
            "Atharva 20 19 21\n",
            "Sankhe 19 18 17\n",
            "Atharva\n",
            "20.00\n"
          ]
        }
      ]
    },
    {
      "cell_type": "code",
      "source": [
        "import re\n",
        "def fun(s):    \n",
        "    a = re.match(r'[a-zA-Z0-9_-]+@[a-zA-Z0-9]+\\.[a-zA-Z]{1,3}$',s)\n",
        "    return(a)\n",
        "\n",
        "def filter_mail(emails):\n",
        "    return list(filter(fun, emails))\n",
        "\n",
        "if __name__ == '__main__':\n",
        "    n = int(input())\n",
        "    emails = []\n",
        "    for _ in range(n):\n",
        "        emails.append(input())\n",
        "\n",
        "filtered_emails = filter_mail(emails)\n",
        "filtered_emails.sort()\n",
        "print(filtered_emails)"
      ],
      "metadata": {
        "colab": {
          "base_uri": "https://localhost:8080/"
        },
        "id": "l2la21q-Ob0M",
        "outputId": "159dad4d-5ce3-4847-ade8-8d65d237f7be"
      },
      "execution_count": null,
      "outputs": [
        {
          "output_type": "stream",
          "name": "stdout",
          "text": [
            "3\n",
            "lara@hackerrank.com\n",
            "brian-23@hackerrank.com\n",
            "britts 54@hackerrank.com\n",
            "['brian-23@hackerrank.com', 'lara@hackerrank.com']\n"
          ]
        }
      ]
    },
    {
      "cell_type": "code",
      "source": [
        "def mutate_string(string, position, character):\n",
        "    return string[:position]+c+string[position+1:]\n",
        "\n",
        "if __name__ == '__main__':\n",
        "    s = input()\n",
        "    i, c = input().split()\n",
        "    s_new = mutate_string(s, int(i), c)\n",
        "    print(s_new)"
      ],
      "metadata": {
        "id": "rCCMzQNbH4Od",
        "outputId": "4c65b63e-f6a0-4af3-9cd8-83b24444d508",
        "colab": {
          "base_uri": "https://localhost:8080/"
        }
      },
      "execution_count": null,
      "outputs": [
        {
          "output_type": "stream",
          "name": "stdout",
          "text": [
            "abracadabra\n",
            "5 k\n",
            "abrackdabra\n"
          ]
        }
      ]
    },
    {
      "cell_type": "code",
      "source": [
        "x=[10,20,30,40,10]\n",
        "y=[75,65,35,75,30]\n",
        "if x[0]==x[-1]:\n",
        "  print(\"First and last are equal\")\n",
        "else:\n",
        "  print(\"First and last element are not equal\")\n",
        "if y[0]==y[-1]:\n",
        "  print(\"First and last are equal\")\n",
        "else:\n",
        "  print(\"First and last element are not equal\")"
      ],
      "metadata": {
        "colab": {
          "base_uri": "https://localhost:8080/"
        },
        "id": "UMz-aeDqHdzP",
        "outputId": "dab1dd70-9fc7-41de-f0a4-cf2ae4a6f2f4"
      },
      "execution_count": null,
      "outputs": [
        {
          "output_type": "stream",
          "name": "stdout",
          "text": [
            "First and last are equal\n",
            "First and last element are not equal\n"
          ]
        }
      ]
    },
    {
      "cell_type": "code",
      "execution_count": null,
      "metadata": {
        "colab": {
          "base_uri": "https://localhost:8080/"
        },
        "id": "7-5zTBlkHTCy",
        "outputId": "747a7a87-a26b-40d7-b379-aa1ce3ed9ddd"
      },
      "outputs": [
        {
          "output_type": "stream",
          "name": "stdout",
          "text": [
            "Enter the number of rows: 5\n",
            "\n",
            "1 \n",
            "2 2 \n",
            "3 3 3 \n",
            "4 4 4 4 \n",
            "5 5 5 5 5 \n"
          ]
        }
      ],
      "source": [
        "a=int(input(\"Enter the number of rows: \"))\n",
        "for i in range(a+1):\n",
        "  for j in range(i):\n",
        "    print(i,end=\" \")\n",
        "  print()"
      ]
    }
  ]
}